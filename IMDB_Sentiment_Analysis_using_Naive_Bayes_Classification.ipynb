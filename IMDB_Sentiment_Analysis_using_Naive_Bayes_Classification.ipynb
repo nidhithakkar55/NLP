{
  "nbformat": 4,
  "nbformat_minor": 0,
  "metadata": {
    "colab": {
      "name": "IMDB Sentiment Analysis using Naive Bayes Classification.ipynb",
      "provenance": []
    },
    "kernelspec": {
      "name": "python3",
      "display_name": "Python 3"
    }
  },
  "cells": [
    {
      "cell_type": "markdown",
      "metadata": {
        "id": "r7AHue4exWls"
      },
      "source": [
        "# **Download IMDB Dataset**"
      ]
    },
    {
      "cell_type": "code",
      "metadata": {
        "colab": {
          "base_uri": "https://localhost:8080/"
        },
        "id": "j7HTDTeoxRyV",
        "outputId": "3b09d830-90ee-499d-eea6-6c04ddaa096d"
      },
      "source": [
        "!wget https://ai.stanford.edu/~amaas/data/sentiment/aclImdb_v1.tar.gz -P data/"
      ],
      "execution_count": 1,
      "outputs": [
        {
          "output_type": "stream",
          "text": [
            "--2021-02-26 05:18:05--  https://ai.stanford.edu/~amaas/data/sentiment/aclImdb_v1.tar.gz\n",
            "Resolving ai.stanford.edu (ai.stanford.edu)... 171.64.68.10\n",
            "Connecting to ai.stanford.edu (ai.stanford.edu)|171.64.68.10|:443... connected.\n",
            "HTTP request sent, awaiting response... 200 OK\n",
            "Length: 84125825 (80M) [application/x-gzip]\n",
            "Saving to: ‘data/aclImdb_v1.tar.gz’\n",
            "\n",
            "aclImdb_v1.tar.gz   100%[===================>]  80.23M  23.9MB/s    in 4.9s    \n",
            "\n",
            "2021-02-26 05:18:10 (16.3 MB/s) - ‘data/aclImdb_v1.tar.gz’ saved [84125825/84125825]\n",
            "\n"
          ],
          "name": "stdout"
        }
      ]
    },
    {
      "cell_type": "markdown",
      "metadata": {
        "id": "Y-2LNDMoxcDO"
      },
      "source": [
        "# **Extract the Data**"
      ]
    },
    {
      "cell_type": "code",
      "metadata": {
        "colab": {
          "base_uri": "https://localhost:8080/"
        },
        "id": "Mkd-xuczxmJH",
        "outputId": "a1ab1ec4-4f34-4f17-d906-587408db9ed3"
      },
      "source": [
        "%%time\n",
        "!tar -xzf data/aclImdb_v1.tar.gz -C data/"
      ],
      "execution_count": 2,
      "outputs": [
        {
          "output_type": "stream",
          "text": [
            "CPU times: user 24.3 ms, sys: 4.18 ms, total: 28.5 ms\n",
            "Wall time: 7.85 s\n"
          ],
          "name": "stdout"
        }
      ]
    },
    {
      "cell_type": "markdown",
      "metadata": {
        "id": "TqJyhofZxuiE"
      },
      "source": [
        "# **Create DataFrame using Pandas Library**"
      ]
    },
    {
      "cell_type": "code",
      "metadata": {
        "id": "m1QzS9N5xrU4"
      },
      "source": [
        "import os\n",
        "import pandas as pd\n",
        "import numpy as np"
      ],
      "execution_count": 3,
      "outputs": []
    },
    {
      "cell_type": "code",
      "metadata": {
        "id": "cKl-SK3cyIQu"
      },
      "source": [
        "folder = 'data/aclImdb/'\n",
        "labels = {'pos': 1, 'neg': 0} \n",
        "df = pd.DataFrame()\n",
        "revList = list()\n",
        "for f in ('test', 'train'):    \n",
        "    for l in ('pos', 'neg'):\n",
        "        path = os.path.join(folder, f, l)\n",
        "        for file in os.listdir (path) :\n",
        "            with open(os.path.join(path, file),'r', encoding='utf-8') as infile:\n",
        "                txt = infile.read()\n",
        "                revList.append((txt,labels[l]))\n",
        "            #df = df.append([[txt, labels[l]]],ignore_index=True)\n",
        "df = pd.DataFrame.from_records(revList)\n",
        "df.columns = ['review', 'sentiment']"
      ],
      "execution_count": 4,
      "outputs": []
    },
    {
      "cell_type": "code",
      "metadata": {
        "colab": {
          "base_uri": "https://localhost:8080/",
          "height": 204
        },
        "id": "T-UhkN9kyx8U",
        "outputId": "76765bf8-157e-4482-ac15-b7cd9f660f13"
      },
      "source": [
        "df.head()"
      ],
      "execution_count": 5,
      "outputs": [
        {
          "output_type": "execute_result",
          "data": {
            "text/html": [
              "<div>\n",
              "<style scoped>\n",
              "    .dataframe tbody tr th:only-of-type {\n",
              "        vertical-align: middle;\n",
              "    }\n",
              "\n",
              "    .dataframe tbody tr th {\n",
              "        vertical-align: top;\n",
              "    }\n",
              "\n",
              "    .dataframe thead th {\n",
              "        text-align: right;\n",
              "    }\n",
              "</style>\n",
              "<table border=\"1\" class=\"dataframe\">\n",
              "  <thead>\n",
              "    <tr style=\"text-align: right;\">\n",
              "      <th></th>\n",
              "      <th>review</th>\n",
              "      <th>sentiment</th>\n",
              "    </tr>\n",
              "  </thead>\n",
              "  <tbody>\n",
              "    <tr>\n",
              "      <th>0</th>\n",
              "      <td>Not sure why the other comment on this film wa...</td>\n",
              "      <td>1</td>\n",
              "    </tr>\n",
              "    <tr>\n",
              "      <th>1</th>\n",
              "      <td>This is a well done action movie. There are pl...</td>\n",
              "      <td>1</td>\n",
              "    </tr>\n",
              "    <tr>\n",
              "      <th>2</th>\n",
              "      <td>The main reason for watching this picture is t...</td>\n",
              "      <td>1</td>\n",
              "    </tr>\n",
              "    <tr>\n",
              "      <th>3</th>\n",
              "      <td>Since the last horrid Astérix film and the fac...</td>\n",
              "      <td>1</td>\n",
              "    </tr>\n",
              "    <tr>\n",
              "      <th>4</th>\n",
              "      <td>Farscape totally rules! In my opinion it's ver...</td>\n",
              "      <td>1</td>\n",
              "    </tr>\n",
              "  </tbody>\n",
              "</table>\n",
              "</div>"
            ],
            "text/plain": [
              "                                              review  sentiment\n",
              "0  Not sure why the other comment on this film wa...          1\n",
              "1  This is a well done action movie. There are pl...          1\n",
              "2  The main reason for watching this picture is t...          1\n",
              "3  Since the last horrid Astérix film and the fac...          1\n",
              "4  Farscape totally rules! In my opinion it's ver...          1"
            ]
          },
          "metadata": {
            "tags": []
          },
          "execution_count": 5
        }
      ]
    },
    {
      "cell_type": "code",
      "metadata": {
        "colab": {
          "base_uri": "https://localhost:8080/",
          "height": 1000
        },
        "id": "F8_7815yy1iI",
        "outputId": "ec84dfad-2d21-417a-d23c-fc10861d89f3"
      },
      "source": [
        "df.tail(50)"
      ],
      "execution_count": 6,
      "outputs": [
        {
          "output_type": "execute_result",
          "data": {
            "text/html": [
              "<div>\n",
              "<style scoped>\n",
              "    .dataframe tbody tr th:only-of-type {\n",
              "        vertical-align: middle;\n",
              "    }\n",
              "\n",
              "    .dataframe tbody tr th {\n",
              "        vertical-align: top;\n",
              "    }\n",
              "\n",
              "    .dataframe thead th {\n",
              "        text-align: right;\n",
              "    }\n",
              "</style>\n",
              "<table border=\"1\" class=\"dataframe\">\n",
              "  <thead>\n",
              "    <tr style=\"text-align: right;\">\n",
              "      <th></th>\n",
              "      <th>review</th>\n",
              "      <th>sentiment</th>\n",
              "    </tr>\n",
              "  </thead>\n",
              "  <tbody>\n",
              "    <tr>\n",
              "      <th>49950</th>\n",
              "      <td>I hadn't heard of this film until I read an ar...</td>\n",
              "      <td>0</td>\n",
              "    </tr>\n",
              "    <tr>\n",
              "      <th>49951</th>\n",
              "      <td>\"Fever Pitch\" isn't a bad film; it's a terribl...</td>\n",
              "      <td>0</td>\n",
              "    </tr>\n",
              "    <tr>\n",
              "      <th>49952</th>\n",
              "      <td>This was a rip-off of the same garbage we had ...</td>\n",
              "      <td>0</td>\n",
              "    </tr>\n",
              "    <tr>\n",
              "      <th>49953</th>\n",
              "      <td>First, I should mention that I really enjoyed ...</td>\n",
              "      <td>0</td>\n",
              "    </tr>\n",
              "    <tr>\n",
              "      <th>49954</th>\n",
              "      <td>This was a new alltime low among westerns. The...</td>\n",
              "      <td>0</td>\n",
              "    </tr>\n",
              "    <tr>\n",
              "      <th>49955</th>\n",
              "      <td>Note: I couldn't force myself to actually writ...</td>\n",
              "      <td>0</td>\n",
              "    </tr>\n",
              "    <tr>\n",
              "      <th>49956</th>\n",
              "      <td>Cornel Wilde and three dumbbells search for su...</td>\n",
              "      <td>0</td>\n",
              "    </tr>\n",
              "    <tr>\n",
              "      <th>49957</th>\n",
              "      <td>It seems as if in Science Fiction you have thi...</td>\n",
              "      <td>0</td>\n",
              "    </tr>\n",
              "    <tr>\n",
              "      <th>49958</th>\n",
              "      <td>Every Sunday, a trio of buds get together at a...</td>\n",
              "      <td>0</td>\n",
              "    </tr>\n",
              "    <tr>\n",
              "      <th>49959</th>\n",
              "      <td>Revenge on us the viewing public perhaps. I sa...</td>\n",
              "      <td>0</td>\n",
              "    </tr>\n",
              "    <tr>\n",
              "      <th>49960</th>\n",
              "      <td>I'll be honest- the reason I rented this movie...</td>\n",
              "      <td>0</td>\n",
              "    </tr>\n",
              "    <tr>\n",
              "      <th>49961</th>\n",
              "      <td>This Book-based movie is truly awful, and a bi...</td>\n",
              "      <td>0</td>\n",
              "    </tr>\n",
              "    <tr>\n",
              "      <th>49962</th>\n",
              "      <td>This \"film\" is a travesty. No, wait--an abomin...</td>\n",
              "      <td>0</td>\n",
              "    </tr>\n",
              "    <tr>\n",
              "      <th>49963</th>\n",
              "      <td>{rant start} I didn't want to believe them at ...</td>\n",
              "      <td>0</td>\n",
              "    </tr>\n",
              "    <tr>\n",
              "      <th>49964</th>\n",
              "      <td>I have a severe problem with this show, severa...</td>\n",
              "      <td>0</td>\n",
              "    </tr>\n",
              "    <tr>\n",
              "      <th>49965</th>\n",
              "      <td>Wow You guys are way too nice!!!Corny,Corny,Co...</td>\n",
              "      <td>0</td>\n",
              "    </tr>\n",
              "    <tr>\n",
              "      <th>49966</th>\n",
              "      <td>...am i missing something here??? \"unexpected ...</td>\n",
              "      <td>0</td>\n",
              "    </tr>\n",
              "    <tr>\n",
              "      <th>49967</th>\n",
              "      <td>Now look, I won't lie to you, but I only got t...</td>\n",
              "      <td>0</td>\n",
              "    </tr>\n",
              "    <tr>\n",
              "      <th>49968</th>\n",
              "      <td>My teacher taped this and showed it to us in C...</td>\n",
              "      <td>0</td>\n",
              "    </tr>\n",
              "    <tr>\n",
              "      <th>49969</th>\n",
              "      <td>but \"Cinderella\" gets my vote, not only for th...</td>\n",
              "      <td>0</td>\n",
              "    </tr>\n",
              "    <tr>\n",
              "      <th>49970</th>\n",
              "      <td>A terrible film which is supposed to be an ind...</td>\n",
              "      <td>0</td>\n",
              "    </tr>\n",
              "    <tr>\n",
              "      <th>49971</th>\n",
              "      <td>Just because someone is under the age of 10 do...</td>\n",
              "      <td>0</td>\n",
              "    </tr>\n",
              "    <tr>\n",
              "      <th>49972</th>\n",
              "      <td>There is no way on earth you are going to care...</td>\n",
              "      <td>0</td>\n",
              "    </tr>\n",
              "    <tr>\n",
              "      <th>49973</th>\n",
              "      <td>Serious HOME ALONE/KARATE KID knock off with e...</td>\n",
              "      <td>0</td>\n",
              "    </tr>\n",
              "    <tr>\n",
              "      <th>49974</th>\n",
              "      <td>I don't know why this has the fans it does and...</td>\n",
              "      <td>0</td>\n",
              "    </tr>\n",
              "    <tr>\n",
              "      <th>49975</th>\n",
              "      <td>Look,I'm reading and reading this comments and...</td>\n",
              "      <td>0</td>\n",
              "    </tr>\n",
              "    <tr>\n",
              "      <th>49976</th>\n",
              "      <td>In reviewing this film I can only go by my exp...</td>\n",
              "      <td>0</td>\n",
              "    </tr>\n",
              "    <tr>\n",
              "      <th>49977</th>\n",
              "      <td>The head of a common New York family, Jane Gai...</td>\n",
              "      <td>0</td>\n",
              "    </tr>\n",
              "    <tr>\n",
              "      <th>49978</th>\n",
              "      <td>To borrow from Dorothy Parker: This is not a f...</td>\n",
              "      <td>0</td>\n",
              "    </tr>\n",
              "    <tr>\n",
              "      <th>49979</th>\n",
              "      <td>Who in their right mind does anything so stupi...</td>\n",
              "      <td>0</td>\n",
              "    </tr>\n",
              "    <tr>\n",
              "      <th>49980</th>\n",
              "      <td>SPOILERS THROUGHOUT: &lt;br /&gt;&lt;br /&gt;The Gettaway ...</td>\n",
              "      <td>0</td>\n",
              "    </tr>\n",
              "    <tr>\n",
              "      <th>49981</th>\n",
              "      <td>'Baptists at Our Barbecue' is the best film ev...</td>\n",
              "      <td>0</td>\n",
              "    </tr>\n",
              "    <tr>\n",
              "      <th>49982</th>\n",
              "      <td>Power rangers, the moronic merchandising telev...</td>\n",
              "      <td>0</td>\n",
              "    </tr>\n",
              "    <tr>\n",
              "      <th>49983</th>\n",
              "      <td>Am I wrong,or is the 2007 version just a rip-o...</td>\n",
              "      <td>0</td>\n",
              "    </tr>\n",
              "    <tr>\n",
              "      <th>49984</th>\n",
              "      <td>This was probably the worst movie i have ever ...</td>\n",
              "      <td>0</td>\n",
              "    </tr>\n",
              "    <tr>\n",
              "      <th>49985</th>\n",
              "      <td>I agree totally with another of the reviewers ...</td>\n",
              "      <td>0</td>\n",
              "    </tr>\n",
              "    <tr>\n",
              "      <th>49986</th>\n",
              "      <td>If you like films that are totally bizarre, th...</td>\n",
              "      <td>0</td>\n",
              "    </tr>\n",
              "    <tr>\n",
              "      <th>49987</th>\n",
              "      <td>If you read my review of SyFy's \"Dinoshark\", y...</td>\n",
              "      <td>0</td>\n",
              "    </tr>\n",
              "    <tr>\n",
              "      <th>49988</th>\n",
              "      <td>My kid makes better videos than this! I feel r...</td>\n",
              "      <td>0</td>\n",
              "    </tr>\n",
              "    <tr>\n",
              "      <th>49989</th>\n",
              "      <td>Okay, the story makes no sense, the characters...</td>\n",
              "      <td>0</td>\n",
              "    </tr>\n",
              "    <tr>\n",
              "      <th>49990</th>\n",
              "      <td>This movie is some of the worst crap I have ev...</td>\n",
              "      <td>0</td>\n",
              "    </tr>\n",
              "    <tr>\n",
              "      <th>49991</th>\n",
              "      <td>This must be accompanied by a special rating a...</td>\n",
              "      <td>0</td>\n",
              "    </tr>\n",
              "    <tr>\n",
              "      <th>49992</th>\n",
              "      <td>This romantic comedy isn't too bad. There are ...</td>\n",
              "      <td>0</td>\n",
              "    </tr>\n",
              "    <tr>\n",
              "      <th>49993</th>\n",
              "      <td>Well this movie is amazingly awful. I felt sor...</td>\n",
              "      <td>0</td>\n",
              "    </tr>\n",
              "    <tr>\n",
              "      <th>49994</th>\n",
              "      <td>East Palace, West Palace reminded me somewhat ...</td>\n",
              "      <td>0</td>\n",
              "    </tr>\n",
              "    <tr>\n",
              "      <th>49995</th>\n",
              "      <td>This movie was definitely not one of Mary-Kate...</td>\n",
              "      <td>0</td>\n",
              "    </tr>\n",
              "    <tr>\n",
              "      <th>49996</th>\n",
              "      <td>Lil Bush is a 30 minute cartoon show comprised...</td>\n",
              "      <td>0</td>\n",
              "    </tr>\n",
              "    <tr>\n",
              "      <th>49997</th>\n",
              "      <td>Where was his critique of democratic administr...</td>\n",
              "      <td>0</td>\n",
              "    </tr>\n",
              "    <tr>\n",
              "      <th>49998</th>\n",
              "      <td>really awful... lead actor did OK... the film,...</td>\n",
              "      <td>0</td>\n",
              "    </tr>\n",
              "    <tr>\n",
              "      <th>49999</th>\n",
              "      <td>It is hard to make an unbiased judgment on a f...</td>\n",
              "      <td>0</td>\n",
              "    </tr>\n",
              "  </tbody>\n",
              "</table>\n",
              "</div>"
            ],
            "text/plain": [
              "                                                  review  sentiment\n",
              "49950  I hadn't heard of this film until I read an ar...          0\n",
              "49951  \"Fever Pitch\" isn't a bad film; it's a terribl...          0\n",
              "49952  This was a rip-off of the same garbage we had ...          0\n",
              "49953  First, I should mention that I really enjoyed ...          0\n",
              "49954  This was a new alltime low among westerns. The...          0\n",
              "49955  Note: I couldn't force myself to actually writ...          0\n",
              "49956  Cornel Wilde and three dumbbells search for su...          0\n",
              "49957  It seems as if in Science Fiction you have thi...          0\n",
              "49958  Every Sunday, a trio of buds get together at a...          0\n",
              "49959  Revenge on us the viewing public perhaps. I sa...          0\n",
              "49960  I'll be honest- the reason I rented this movie...          0\n",
              "49961  This Book-based movie is truly awful, and a bi...          0\n",
              "49962  This \"film\" is a travesty. No, wait--an abomin...          0\n",
              "49963  {rant start} I didn't want to believe them at ...          0\n",
              "49964  I have a severe problem with this show, severa...          0\n",
              "49965  Wow You guys are way too nice!!!Corny,Corny,Co...          0\n",
              "49966  ...am i missing something here??? \"unexpected ...          0\n",
              "49967  Now look, I won't lie to you, but I only got t...          0\n",
              "49968  My teacher taped this and showed it to us in C...          0\n",
              "49969  but \"Cinderella\" gets my vote, not only for th...          0\n",
              "49970  A terrible film which is supposed to be an ind...          0\n",
              "49971  Just because someone is under the age of 10 do...          0\n",
              "49972  There is no way on earth you are going to care...          0\n",
              "49973  Serious HOME ALONE/KARATE KID knock off with e...          0\n",
              "49974  I don't know why this has the fans it does and...          0\n",
              "49975  Look,I'm reading and reading this comments and...          0\n",
              "49976  In reviewing this film I can only go by my exp...          0\n",
              "49977  The head of a common New York family, Jane Gai...          0\n",
              "49978  To borrow from Dorothy Parker: This is not a f...          0\n",
              "49979  Who in their right mind does anything so stupi...          0\n",
              "49980  SPOILERS THROUGHOUT: <br /><br />The Gettaway ...          0\n",
              "49981  'Baptists at Our Barbecue' is the best film ev...          0\n",
              "49982  Power rangers, the moronic merchandising telev...          0\n",
              "49983  Am I wrong,or is the 2007 version just a rip-o...          0\n",
              "49984  This was probably the worst movie i have ever ...          0\n",
              "49985  I agree totally with another of the reviewers ...          0\n",
              "49986  If you like films that are totally bizarre, th...          0\n",
              "49987  If you read my review of SyFy's \"Dinoshark\", y...          0\n",
              "49988  My kid makes better videos than this! I feel r...          0\n",
              "49989  Okay, the story makes no sense, the characters...          0\n",
              "49990  This movie is some of the worst crap I have ev...          0\n",
              "49991  This must be accompanied by a special rating a...          0\n",
              "49992  This romantic comedy isn't too bad. There are ...          0\n",
              "49993  Well this movie is amazingly awful. I felt sor...          0\n",
              "49994  East Palace, West Palace reminded me somewhat ...          0\n",
              "49995  This movie was definitely not one of Mary-Kate...          0\n",
              "49996  Lil Bush is a 30 minute cartoon show comprised...          0\n",
              "49997  Where was his critique of democratic administr...          0\n",
              "49998  really awful... lead actor did OK... the film,...          0\n",
              "49999  It is hard to make an unbiased judgment on a f...          0"
            ]
          },
          "metadata": {
            "tags": []
          },
          "execution_count": 6
        }
      ]
    },
    {
      "cell_type": "code",
      "metadata": {
        "colab": {
          "base_uri": "https://localhost:8080/",
          "height": 143
        },
        "id": "plFUoKRwy5_z",
        "outputId": "98065823-b488-4087-cb79-4c2534f73157"
      },
      "source": [
        "df.loc[27000, 'review']"
      ],
      "execution_count": 7,
      "outputs": [
        {
          "output_type": "execute_result",
          "data": {
            "application/vnd.google.colaboratory.intrinsic+json": {
              "type": "string"
            },
            "text/plain": [
              "\"I saw this recently on a cable channel. The movie is great; it's one of the few musicals I have seen that doesn't shy away from the light and dark. It portrays some of the splendour of the age along with a lot of the squalor. Some of the set piece dance sequences so much is going on, I didn't know where to look next. One day I shall go and see this on the big screen, just so that I see what's happening. But what really lifts this to another level is Oliver Reed's performance as Bill Sykes. Not only is a thoroughly mean and menacing man but there is something else, some inner demons. He gave me the impression that if you pushed him into a corner, he was capable of anything. It was almost as if the Sykes character was on the edge of madness, just awaiting the trigger. I have seen the Robert Newton's Bill Sykes from the 1948 movie, and I thought he was 'just' a bad egg, but Oliver Reed's performance intimidated me in my own living room.\""
            ]
          },
          "metadata": {
            "tags": []
          },
          "execution_count": 7
        }
      ]
    },
    {
      "cell_type": "code",
      "metadata": {
        "colab": {
          "base_uri": "https://localhost:8080/"
        },
        "id": "lSlDvjaQy_t7",
        "outputId": "c50f93e6-9b2c-4a20-e2d5-5888994ab723"
      },
      "source": [
        "df.loc[27000, 'sentiment']"
      ],
      "execution_count": 8,
      "outputs": [
        {
          "output_type": "execute_result",
          "data": {
            "text/plain": [
              "1"
            ]
          },
          "metadata": {
            "tags": []
          },
          "execution_count": 8
        }
      ]
    },
    {
      "cell_type": "markdown",
      "metadata": {
        "id": "nWZExoQuzODc"
      },
      "source": [
        "# **Build Vocabulary**"
      ]
    },
    {
      "cell_type": "code",
      "metadata": {
        "id": "VsTfUzGr0Siu"
      },
      "source": [
        "import nltk\n",
        "\n",
        "from nltk.tokenize import word_tokenize # import tokenizer\n",
        "from nltk.corpus import stopwords # import stopwords\n",
        "from nltk.stem.porter import PorterStemmer #import stemmer\n",
        "from nltk.stem import WordNetLemmatizer #lemmatizer\n",
        "from nltk.corpus import wordnet"
      ],
      "execution_count": 13,
      "outputs": []
    },
    {
      "cell_type": "code",
      "metadata": {
        "colab": {
          "base_uri": "https://localhost:8080/"
        },
        "id": "1S-et51F0TtY",
        "outputId": "41a81ad5-82f8-4ad9-d685-8676a9796082"
      },
      "source": [
        "# Install the nltk component for several tasks\n",
        "nltk.download('punkt')     \n",
        "nltk.download('stopwords')\n",
        "nltk.download('wordnet')\n",
        "nltk.download('averaged_perceptron_tagger')"
      ],
      "execution_count": 14,
      "outputs": [
        {
          "output_type": "stream",
          "text": [
            "[nltk_data] Downloading package punkt to /root/nltk_data...\n",
            "[nltk_data]   Unzipping tokenizers/punkt.zip.\n",
            "[nltk_data] Downloading package stopwords to /root/nltk_data...\n",
            "[nltk_data]   Unzipping corpora/stopwords.zip.\n",
            "[nltk_data] Downloading package wordnet to /root/nltk_data...\n",
            "[nltk_data]   Unzipping corpora/wordnet.zip.\n",
            "[nltk_data] Downloading package averaged_perceptron_tagger to\n",
            "[nltk_data]     /root/nltk_data...\n",
            "[nltk_data]   Unzipping taggers/averaged_perceptron_tagger.zip.\n"
          ],
          "name": "stdout"
        },
        {
          "output_type": "execute_result",
          "data": {
            "text/plain": [
              "True"
            ]
          },
          "metadata": {
            "tags": []
          },
          "execution_count": 14
        }
      ]
    },
    {
      "cell_type": "code",
      "metadata": {
        "colab": {
          "base_uri": "https://localhost:8080/"
        },
        "id": "RkF8SaOEzCyq",
        "outputId": "6e53a7f9-3259-4d9f-f035-30a2f06c9409"
      },
      "source": [
        "reviews = df.review.str.cat(sep=' ') #function to split text into word\n",
        "tokens = word_tokenize(reviews)\n",
        "vocabulary = set(tokens)\n",
        "print(len(vocabulary))\n",
        "\n",
        "#frequency_dist = nltk.FreqDist(tokens)\n",
        "#sorted(frequency_dist,key=frequency_dist.__getitem__, reverse=True)[0:50]"
      ],
      "execution_count": 15,
      "outputs": [
        {
          "output_type": "stream",
          "text": [
            "199784\n"
          ],
          "name": "stdout"
        }
      ]
    },
    {
      "cell_type": "markdown",
      "metadata": {
        "id": "Was_kdXz1jEW"
      },
      "source": [
        "# **Remove Stopwords**"
      ]
    },
    {
      "cell_type": "code",
      "metadata": {
        "colab": {
          "base_uri": "https://localhost:8080/"
        },
        "id": "mOeA-32r0M0H",
        "outputId": "92ce3fb4-3598-41aa-e9ce-f9122699748e"
      },
      "source": [
        "stop_words = set(stopwords.words('english'))\n",
        "vocabulary = [w for w in vocabulary if not w in stop_words]\n",
        "print (len (vocabulary))"
      ],
      "execution_count": 16,
      "outputs": [
        {
          "output_type": "stream",
          "text": [
            "199635\n"
          ],
          "name": "stdout"
        }
      ]
    },
    {
      "cell_type": "markdown",
      "metadata": {
        "id": "zeO9rW_Q1brJ"
      },
      "source": [
        "# **Build Classifier**"
      ]
    },
    {
      "cell_type": "code",
      "metadata": {
        "id": "jbkRCX3F17hC"
      },
      "source": [
        "from sklearn.feature_extraction.text import TfidfTransformer #\n",
        "from sklearn.feature_extraction.text import TfidfVectorizer # from text to vector\n",
        "from sklearn.naive_bayes import MultinomialNB #import naive bayes classifier\n",
        "from sklearn import svm #import SVM classifier\n",
        "from sklearn.metrics  import accuracy_score # accuracy measure\n",
        "from sklearn.tree import DecisionTreeClassifier # Decision tree classfier\n",
        "from sklearn.ensemble import RandomForestClassifier # Random Forest Classfier "
      ],
      "execution_count": 17,
      "outputs": []
    },
    {
      "cell_type": "code",
      "metadata": {
        "colab": {
          "base_uri": "https://localhost:8080/"
        },
        "id": "D0rSz45u1I15",
        "outputId": "34735ede-8df5-40f8-f14c-6e346da42a36"
      },
      "source": [
        "X_train = df.loc[:24999, 'review'].values\n",
        "y_train = df.loc[:24999, 'sentiment'].values\n",
        "X_test = df.loc[25000:, 'review'].values\n",
        "y_test = df.loc[25000:, 'sentiment'].values\n",
        "vectorizer = TfidfVectorizer()\n",
        "\n",
        "v=vectorizer.fit_transform(vocabulary)\n",
        "#train_vectors=vectorizer.fit_transform(X_train)\n",
        "\n",
        "train_vectors = vectorizer.transform(X_train)\n",
        "test_vectors = vectorizer.transform(X_test)\n",
        "\n",
        "print(train_vectors.shape, test_vectors.shape)"
      ],
      "execution_count": 18,
      "outputs": [
        {
          "output_type": "stream",
          "text": [
            "(25000, 101880) (25000, 101880)\n"
          ],
          "name": "stdout"
        }
      ]
    },
    {
      "cell_type": "markdown",
      "metadata": {
        "id": "EYtE1GjQ2pl0"
      },
      "source": [
        "# **Using Naive Bayes**"
      ]
    },
    {
      "cell_type": "code",
      "metadata": {
        "colab": {
          "base_uri": "https://localhost:8080/"
        },
        "id": "dXopkSvp1qP8",
        "outputId": "21b44d03-6823-4529-88df-6b7b466f9762"
      },
      "source": [
        "clf = MultinomialNB().fit(train_vectors, y_train)\n",
        "\n",
        "predicted = clf.predict(test_vectors)\n",
        "print(accuracy_score(y_test,predicted))"
      ],
      "execution_count": 19,
      "outputs": [
        {
          "output_type": "stream",
          "text": [
            "0.84124\n"
          ],
          "name": "stdout"
        }
      ]
    },
    {
      "cell_type": "markdown",
      "metadata": {
        "id": "x28qe0bW21By"
      },
      "source": [
        "# **Using SVM**"
      ]
    },
    {
      "cell_type": "code",
      "metadata": {
        "id": "vAoNYrWE3P0U"
      },
      "source": [
        "clf = svm.SVC().fit(train_vectors, y_train)"
      ],
      "execution_count": null,
      "outputs": []
    },
    {
      "cell_type": "code",
      "metadata": {
        "id": "ClFiSKXD3eYS"
      },
      "source": [
        "predicted = clf.predict(test_vectors)\n",
        "print(accuracy_score(y_test,predicted))"
      ],
      "execution_count": null,
      "outputs": []
    },
    {
      "cell_type": "markdown",
      "metadata": {
        "id": "BRwR-9Ib3VBZ"
      },
      "source": [
        "# **Using Decision Trees**"
      ]
    },
    {
      "cell_type": "code",
      "metadata": {
        "id": "m5GuZD8j3Shq"
      },
      "source": [
        "clf = DecisionTreeClassifier(max_depth=5).fit(train_vectors, y_train)"
      ],
      "execution_count": null,
      "outputs": []
    },
    {
      "cell_type": "code",
      "metadata": {
        "id": "OQMa-lKW3d29"
      },
      "source": [
        "predicted = clf.predict(test_vectors)\n",
        "print(accuracy_score(y_test,predicted))"
      ],
      "execution_count": null,
      "outputs": []
    },
    {
      "cell_type": "markdown",
      "metadata": {
        "id": "fLOcYESk3YWB"
      },
      "source": [
        "# **Using Random Forest**"
      ]
    },
    {
      "cell_type": "code",
      "metadata": {
        "id": "Z2qRpV3r2x7x"
      },
      "source": [
        "clf=RandomForestClassifier(max_depth=5, n_estimators=10, max_features=1).fit(train_vectors, y_train)"
      ],
      "execution_count": null,
      "outputs": []
    },
    {
      "cell_type": "code",
      "metadata": {
        "id": "91GFZ7jI3cvv"
      },
      "source": [
        "predicted = clf.predict(test_vectors)\n",
        "print(accuracy_score(y_test,predicted))"
      ],
      "execution_count": null,
      "outputs": []
    }
  ]
}